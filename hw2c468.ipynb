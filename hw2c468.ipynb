{
 "cells": [
  {
   "cell_type": "code",
   "execution_count": 4,
   "metadata": {
    "scrolled": false
   },
   "outputs": [
    {
     "data": {
      "image/png": "[encoded data removed]",
      "text/plain": [
       "<Figure size 244.412x84.28 with 1 Axes>"
      ]
     },
     "execution_count": 4,
     "metadata": {},
     "output_type": "execute_result"
    }
   ],
   "source": [
    "from qiskit import *\n",
    "import numpy as np\n",
    "from qiskit.visualization import plot_histogram\n",
    "svs = BasicAer.get_backend(\"statevector_simulator\")\n",
    "em = BasicAer.get_backend('qasm_simulator')\n",
    "\n",
    "def makecircuit(theta, phi, lam): \n",
    "    qr = QuantumRegister(1, 'qr')\n",
    "    qc = QuantumCircuit(qr)\n",
    "    qc.u3(theta, phi, lam, qr)\n",
    "    return qc\n",
    "    \n",
    "def sv(qc): \n",
    "    job = execute(qc, svs)\n",
    "    res = job.result()\n",
    "    print(res.get_statevector())\n",
    "    \n",
    "def addmeasure(qc): \n",
    "    cr = ClassicalRegister(1, 'cr')\n",
    "    qc.add_register(cr)\n",
    "    qc.measure(qc.qregs[0], qc.cregs[0])\n",
    "    return qc\n",
    "\n",
    "def sim(qc): \n",
    "    job = execute(qc, em, shots=2000)\n",
    "    res = job.result()\n",
    "    return res.get_counts()\n",
    "\n",
    "qc = makecircuit(np.pi/3, 0, 0)\n",
    "#print(qc.qregs[0](theta, t))\n",
    "qc.draw(output = \"mpl\")"
   ]
  },
  {
   "cell_type": "code",
   "execution_count": 5,
   "metadata": {},
   "outputs": [
    {
     "name": "stdout",
     "output_type": "stream",
     "text": [
      "[0.8660254+0.j 0.5      +0.j]\n"
     ]
    }
   ],
   "source": [
    "sv(qc)"
   ]
  },
  {
   "cell_type": "code",
   "execution_count": 6,
   "metadata": {},
   "outputs": [
    {
     "data": {
      "image/png": "[encoded data removed]",
      "text/plain": [
       "<Figure size 304.612x144.48 with 1 Axes>"
      ]
     },
     "execution_count": 6,
     "metadata": {},
     "output_type": "execute_result"
    }
   ],
   "source": [
    "qc = addmeasure(qc)\n",
    "qc.draw(output = \"mpl\")"
   ]
  },
  {
   "cell_type": "code",
   "execution_count": 7,
   "metadata": {},
   "outputs": [
    {
     "name": "stdout",
     "output_type": "stream",
     "text": [
      "{'1': 504, '0': 1496}\n"
     ]
    }
   ],
   "source": [
    "counts = sim(qc)\n",
    "print(counts)"
   ]
  },
  {
   "cell_type": "code",
   "execution_count": 8,
   "metadata": {},
   "outputs": [
    {
     "data": {
      "image/png": "[encoded data removed]",
      "text/plain": [
       "<Figure size 504x360 with 1 Axes>"
      ]
     },
     "execution_count": 8,
     "metadata": {},
     "output_type": "execute_result"
    }
   ],
   "source": [
    "plot_histogram(counts)"
   ]
  },
  {
   "cell_type": "code",
   "execution_count": null,
   "metadata": {},
   "outputs": [],
   "source": []
  }
 ],
 "metadata": {
  "kernelspec": {
   "display_name": "Python 3",
   "language": "python",
   "name": "python3"
  },
  "language_info": {
   "codemirror_mode": {
    "name": "ipython",
    "version": 3
   },
   "file_extension": ".py",
   "mimetype": "text/x-python",
   "name": "python",
   "nbconvert_exporter": "python",
   "pygments_lexer": "ipython3",
   "version": "3.7.4"
  }
 },
 "nbformat": 4,
 "nbformat_minor": 2
}
